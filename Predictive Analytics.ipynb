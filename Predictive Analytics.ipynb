{
 "cells": [
  {
   "cell_type": "code",
   "execution_count": 1,
   "id": "81715d10",
   "metadata": {},
   "outputs": [],
   "source": [
    "# importing libraries\n",
    "\n",
    "import pandas as pd\n",
    "import numpy as np\n",
    "import matplotlib.pyplot as plt\n",
    "import seaborn as sns\n",
    "import scipy as sp\n",
    "import warnings\n",
    "warnings.filterwarnings(\"ignore\")\n",
    "%matplotlib inline"
   ]
  },
  {
   "cell_type": "code",
   "execution_count": 2,
   "id": "553fe0b7",
   "metadata": {},
   "outputs": [],
   "source": [
    "#import the data\n",
    "data = pd.read_csv(\"supermarketData.csv\")"
   ]
  },
  {
   "cell_type": "code",
   "execution_count": 3,
   "id": "2640a2ec",
   "metadata": {},
   "outputs": [
    {
     "data": {
      "text/html": [
       "<div>\n",
       "<style scoped>\n",
       "    .dataframe tbody tr th:only-of-type {\n",
       "        vertical-align: middle;\n",
       "    }\n",
       "\n",
       "    .dataframe tbody tr th {\n",
       "        vertical-align: top;\n",
       "    }\n",
       "\n",
       "    .dataframe thead th {\n",
       "        text-align: right;\n",
       "    }\n",
       "</style>\n",
       "<table border=\"1\" class=\"dataframe\">\n",
       "  <thead>\n",
       "    <tr style=\"text-align: right;\">\n",
       "      <th></th>\n",
       "      <th>Invoice ID</th>\n",
       "      <th>Branch</th>\n",
       "      <th>City</th>\n",
       "      <th>Customer type</th>\n",
       "      <th>Gender</th>\n",
       "      <th>Product line</th>\n",
       "      <th>Unit price</th>\n",
       "      <th>Quantity</th>\n",
       "      <th>Tax</th>\n",
       "      <th>Total</th>\n",
       "      <th>Date</th>\n",
       "      <th>Time</th>\n",
       "      <th>Payment</th>\n",
       "      <th>cogs</th>\n",
       "      <th>gross margin percentage</th>\n",
       "      <th>gross income</th>\n",
       "      <th>Rating</th>\n",
       "    </tr>\n",
       "  </thead>\n",
       "  <tbody>\n",
       "    <tr>\n",
       "      <th>0</th>\n",
       "      <td>750-67-8428</td>\n",
       "      <td>A</td>\n",
       "      <td>Yangon</td>\n",
       "      <td>Member</td>\n",
       "      <td>Female</td>\n",
       "      <td>Health and beauty</td>\n",
       "      <td>74.69</td>\n",
       "      <td>7</td>\n",
       "      <td>26.1415</td>\n",
       "      <td>548.9715</td>\n",
       "      <td>01/05/2019</td>\n",
       "      <td>13:08</td>\n",
       "      <td>Ewallet</td>\n",
       "      <td>522.83</td>\n",
       "      <td>4.761905</td>\n",
       "      <td>26.1415</td>\n",
       "      <td>9.1</td>\n",
       "    </tr>\n",
       "    <tr>\n",
       "      <th>1</th>\n",
       "      <td>226-31-3081</td>\n",
       "      <td>C</td>\n",
       "      <td>Naypyitaw</td>\n",
       "      <td>Normal</td>\n",
       "      <td>Female</td>\n",
       "      <td>Electronic accessories</td>\n",
       "      <td>15.28</td>\n",
       "      <td>5</td>\n",
       "      <td>3.8200</td>\n",
       "      <td>80.2200</td>\n",
       "      <td>03/08/2019</td>\n",
       "      <td>10:29</td>\n",
       "      <td>Cash</td>\n",
       "      <td>76.40</td>\n",
       "      <td>4.761905</td>\n",
       "      <td>3.8200</td>\n",
       "      <td>9.6</td>\n",
       "    </tr>\n",
       "    <tr>\n",
       "      <th>2</th>\n",
       "      <td>631-41-3108</td>\n",
       "      <td>A</td>\n",
       "      <td>Yangon</td>\n",
       "      <td>Normal</td>\n",
       "      <td>Male</td>\n",
       "      <td>Home and lifestyle</td>\n",
       "      <td>46.33</td>\n",
       "      <td>7</td>\n",
       "      <td>16.2155</td>\n",
       "      <td>340.5255</td>\n",
       "      <td>03/03/2019</td>\n",
       "      <td>13:23</td>\n",
       "      <td>Credit card</td>\n",
       "      <td>324.31</td>\n",
       "      <td>4.761905</td>\n",
       "      <td>16.2155</td>\n",
       "      <td>7.4</td>\n",
       "    </tr>\n",
       "    <tr>\n",
       "      <th>3</th>\n",
       "      <td>123-19-1176</td>\n",
       "      <td>A</td>\n",
       "      <td>Yangon</td>\n",
       "      <td>Member</td>\n",
       "      <td>Male</td>\n",
       "      <td>Health and beauty</td>\n",
       "      <td>58.22</td>\n",
       "      <td>8</td>\n",
       "      <td>23.2880</td>\n",
       "      <td>489.0480</td>\n",
       "      <td>1/27/2019</td>\n",
       "      <td>20:33</td>\n",
       "      <td>Ewallet</td>\n",
       "      <td>465.76</td>\n",
       "      <td>4.761905</td>\n",
       "      <td>23.2880</td>\n",
       "      <td>8.4</td>\n",
       "    </tr>\n",
       "    <tr>\n",
       "      <th>4</th>\n",
       "      <td>373-73-7910</td>\n",
       "      <td>A</td>\n",
       "      <td>Yangon</td>\n",
       "      <td>Normal</td>\n",
       "      <td>Male</td>\n",
       "      <td>Sports and travel</td>\n",
       "      <td>86.31</td>\n",
       "      <td>7</td>\n",
       "      <td>30.2085</td>\n",
       "      <td>634.3785</td>\n",
       "      <td>02/08/2019</td>\n",
       "      <td>10:37</td>\n",
       "      <td>Ewallet</td>\n",
       "      <td>604.17</td>\n",
       "      <td>4.761905</td>\n",
       "      <td>30.2085</td>\n",
       "      <td>5.3</td>\n",
       "    </tr>\n",
       "    <tr>\n",
       "      <th>...</th>\n",
       "      <td>...</td>\n",
       "      <td>...</td>\n",
       "      <td>...</td>\n",
       "      <td>...</td>\n",
       "      <td>...</td>\n",
       "      <td>...</td>\n",
       "      <td>...</td>\n",
       "      <td>...</td>\n",
       "      <td>...</td>\n",
       "      <td>...</td>\n",
       "      <td>...</td>\n",
       "      <td>...</td>\n",
       "      <td>...</td>\n",
       "      <td>...</td>\n",
       "      <td>...</td>\n",
       "      <td>...</td>\n",
       "      <td>...</td>\n",
       "    </tr>\n",
       "    <tr>\n",
       "      <th>995</th>\n",
       "      <td>233-67-5758</td>\n",
       "      <td>C</td>\n",
       "      <td>Naypyitaw</td>\n",
       "      <td>Normal</td>\n",
       "      <td>Male</td>\n",
       "      <td>Health and beauty</td>\n",
       "      <td>40.35</td>\n",
       "      <td>1</td>\n",
       "      <td>2.0175</td>\n",
       "      <td>42.3675</td>\n",
       "      <td>1/29/2019</td>\n",
       "      <td>13:46</td>\n",
       "      <td>Ewallet</td>\n",
       "      <td>40.35</td>\n",
       "      <td>4.761905</td>\n",
       "      <td>2.0175</td>\n",
       "      <td>6.2</td>\n",
       "    </tr>\n",
       "    <tr>\n",
       "      <th>996</th>\n",
       "      <td>303-96-2227</td>\n",
       "      <td>B</td>\n",
       "      <td>Mandalay</td>\n",
       "      <td>Normal</td>\n",
       "      <td>Female</td>\n",
       "      <td>Home and lifestyle</td>\n",
       "      <td>97.38</td>\n",
       "      <td>10</td>\n",
       "      <td>48.6900</td>\n",
       "      <td>1022.4900</td>\n",
       "      <td>03/02/2019</td>\n",
       "      <td>17:16</td>\n",
       "      <td>Ewallet</td>\n",
       "      <td>973.80</td>\n",
       "      <td>4.761905</td>\n",
       "      <td>48.6900</td>\n",
       "      <td>4.4</td>\n",
       "    </tr>\n",
       "    <tr>\n",
       "      <th>997</th>\n",
       "      <td>727-02-1313</td>\n",
       "      <td>A</td>\n",
       "      <td>Yangon</td>\n",
       "      <td>Member</td>\n",
       "      <td>Male</td>\n",
       "      <td>Food and beverages</td>\n",
       "      <td>31.84</td>\n",
       "      <td>1</td>\n",
       "      <td>1.5920</td>\n",
       "      <td>33.4320</td>\n",
       "      <td>02/09/2019</td>\n",
       "      <td>13:22</td>\n",
       "      <td>Cash</td>\n",
       "      <td>31.84</td>\n",
       "      <td>4.761905</td>\n",
       "      <td>1.5920</td>\n",
       "      <td>7.7</td>\n",
       "    </tr>\n",
       "    <tr>\n",
       "      <th>998</th>\n",
       "      <td>347-56-2442</td>\n",
       "      <td>A</td>\n",
       "      <td>Yangon</td>\n",
       "      <td>Normal</td>\n",
       "      <td>Male</td>\n",
       "      <td>Home and lifestyle</td>\n",
       "      <td>65.82</td>\n",
       "      <td>1</td>\n",
       "      <td>3.2910</td>\n",
       "      <td>69.1110</td>\n",
       "      <td>2/22/2019</td>\n",
       "      <td>15:33</td>\n",
       "      <td>Cash</td>\n",
       "      <td>65.82</td>\n",
       "      <td>4.761905</td>\n",
       "      <td>3.2910</td>\n",
       "      <td>4.1</td>\n",
       "    </tr>\n",
       "    <tr>\n",
       "      <th>999</th>\n",
       "      <td>849-09-3807</td>\n",
       "      <td>A</td>\n",
       "      <td>Yangon</td>\n",
       "      <td>Member</td>\n",
       "      <td>Female</td>\n",
       "      <td>Fashion accessories</td>\n",
       "      <td>88.34</td>\n",
       "      <td>7</td>\n",
       "      <td>30.9190</td>\n",
       "      <td>649.2990</td>\n",
       "      <td>2/18/2019</td>\n",
       "      <td>13:28</td>\n",
       "      <td>Cash</td>\n",
       "      <td>618.38</td>\n",
       "      <td>4.761905</td>\n",
       "      <td>30.9190</td>\n",
       "      <td>6.6</td>\n",
       "    </tr>\n",
       "  </tbody>\n",
       "</table>\n",
       "<p>1000 rows × 17 columns</p>\n",
       "</div>"
      ],
      "text/plain": [
       "      Invoice ID Branch       City Customer type  Gender  \\\n",
       "0    750-67-8428      A     Yangon        Member  Female   \n",
       "1    226-31-3081      C  Naypyitaw        Normal  Female   \n",
       "2    631-41-3108      A     Yangon        Normal    Male   \n",
       "3    123-19-1176      A     Yangon        Member    Male   \n",
       "4    373-73-7910      A     Yangon        Normal    Male   \n",
       "..           ...    ...        ...           ...     ...   \n",
       "995  233-67-5758      C  Naypyitaw        Normal    Male   \n",
       "996  303-96-2227      B   Mandalay        Normal  Female   \n",
       "997  727-02-1313      A     Yangon        Member    Male   \n",
       "998  347-56-2442      A     Yangon        Normal    Male   \n",
       "999  849-09-3807      A     Yangon        Member  Female   \n",
       "\n",
       "               Product line  Unit price  Quantity      Tax      Total  \\\n",
       "0         Health and beauty       74.69         7  26.1415   548.9715   \n",
       "1    Electronic accessories       15.28         5   3.8200    80.2200   \n",
       "2        Home and lifestyle       46.33         7  16.2155   340.5255   \n",
       "3         Health and beauty       58.22         8  23.2880   489.0480   \n",
       "4         Sports and travel       86.31         7  30.2085   634.3785   \n",
       "..                      ...         ...       ...      ...        ...   \n",
       "995       Health and beauty       40.35         1   2.0175    42.3675   \n",
       "996      Home and lifestyle       97.38        10  48.6900  1022.4900   \n",
       "997      Food and beverages       31.84         1   1.5920    33.4320   \n",
       "998      Home and lifestyle       65.82         1   3.2910    69.1110   \n",
       "999     Fashion accessories       88.34         7  30.9190   649.2990   \n",
       "\n",
       "           Date   Time      Payment    cogs  gross margin percentage  \\\n",
       "0    01/05/2019  13:08      Ewallet  522.83                 4.761905   \n",
       "1    03/08/2019  10:29         Cash   76.40                 4.761905   \n",
       "2    03/03/2019  13:23  Credit card  324.31                 4.761905   \n",
       "3     1/27/2019  20:33      Ewallet  465.76                 4.761905   \n",
       "4    02/08/2019  10:37      Ewallet  604.17                 4.761905   \n",
       "..          ...    ...          ...     ...                      ...   \n",
       "995   1/29/2019  13:46      Ewallet   40.35                 4.761905   \n",
       "996  03/02/2019  17:16      Ewallet  973.80                 4.761905   \n",
       "997  02/09/2019  13:22         Cash   31.84                 4.761905   \n",
       "998   2/22/2019  15:33         Cash   65.82                 4.761905   \n",
       "999   2/18/2019  13:28         Cash  618.38                 4.761905   \n",
       "\n",
       "     gross income  Rating  \n",
       "0         26.1415     9.1  \n",
       "1          3.8200     9.6  \n",
       "2         16.2155     7.4  \n",
       "3         23.2880     8.4  \n",
       "4         30.2085     5.3  \n",
       "..            ...     ...  \n",
       "995        2.0175     6.2  \n",
       "996       48.6900     4.4  \n",
       "997        1.5920     7.7  \n",
       "998        3.2910     4.1  \n",
       "999       30.9190     6.6  \n",
       "\n",
       "[1000 rows x 17 columns]"
      ]
     },
     "execution_count": 3,
     "metadata": {},
     "output_type": "execute_result"
    }
   ],
   "source": [
    "#Explore the data\n",
    "#display all the data \n",
    "data"
   ]
  },
  {
   "cell_type": "code",
   "execution_count": 4,
   "id": "8e373e19",
   "metadata": {},
   "outputs": [
    {
     "data": {
      "text/html": [
       "<div>\n",
       "<style scoped>\n",
       "    .dataframe tbody tr th:only-of-type {\n",
       "        vertical-align: middle;\n",
       "    }\n",
       "\n",
       "    .dataframe tbody tr th {\n",
       "        vertical-align: top;\n",
       "    }\n",
       "\n",
       "    .dataframe thead th {\n",
       "        text-align: right;\n",
       "    }\n",
       "</style>\n",
       "<table border=\"1\" class=\"dataframe\">\n",
       "  <thead>\n",
       "    <tr style=\"text-align: right;\">\n",
       "      <th></th>\n",
       "      <th>Invoice ID</th>\n",
       "      <th>Branch</th>\n",
       "      <th>City</th>\n",
       "      <th>Customer type</th>\n",
       "      <th>Gender</th>\n",
       "      <th>Product line</th>\n",
       "      <th>Unit price</th>\n",
       "      <th>Quantity</th>\n",
       "      <th>Tax</th>\n",
       "      <th>Total</th>\n",
       "      <th>Date</th>\n",
       "      <th>Time</th>\n",
       "      <th>Payment</th>\n",
       "      <th>cogs</th>\n",
       "      <th>gross margin percentage</th>\n",
       "      <th>gross income</th>\n",
       "      <th>Rating</th>\n",
       "    </tr>\n",
       "  </thead>\n",
       "  <tbody>\n",
       "    <tr>\n",
       "      <th>0</th>\n",
       "      <td>750-67-8428</td>\n",
       "      <td>A</td>\n",
       "      <td>Yangon</td>\n",
       "      <td>Member</td>\n",
       "      <td>Female</td>\n",
       "      <td>Health and beauty</td>\n",
       "      <td>74.69</td>\n",
       "      <td>7</td>\n",
       "      <td>26.1415</td>\n",
       "      <td>548.9715</td>\n",
       "      <td>01/05/2019</td>\n",
       "      <td>13:08</td>\n",
       "      <td>Ewallet</td>\n",
       "      <td>522.83</td>\n",
       "      <td>4.761905</td>\n",
       "      <td>26.1415</td>\n",
       "      <td>9.1</td>\n",
       "    </tr>\n",
       "    <tr>\n",
       "      <th>1</th>\n",
       "      <td>226-31-3081</td>\n",
       "      <td>C</td>\n",
       "      <td>Naypyitaw</td>\n",
       "      <td>Normal</td>\n",
       "      <td>Female</td>\n",
       "      <td>Electronic accessories</td>\n",
       "      <td>15.28</td>\n",
       "      <td>5</td>\n",
       "      <td>3.8200</td>\n",
       "      <td>80.2200</td>\n",
       "      <td>03/08/2019</td>\n",
       "      <td>10:29</td>\n",
       "      <td>Cash</td>\n",
       "      <td>76.40</td>\n",
       "      <td>4.761905</td>\n",
       "      <td>3.8200</td>\n",
       "      <td>9.6</td>\n",
       "    </tr>\n",
       "    <tr>\n",
       "      <th>2</th>\n",
       "      <td>631-41-3108</td>\n",
       "      <td>A</td>\n",
       "      <td>Yangon</td>\n",
       "      <td>Normal</td>\n",
       "      <td>Male</td>\n",
       "      <td>Home and lifestyle</td>\n",
       "      <td>46.33</td>\n",
       "      <td>7</td>\n",
       "      <td>16.2155</td>\n",
       "      <td>340.5255</td>\n",
       "      <td>03/03/2019</td>\n",
       "      <td>13:23</td>\n",
       "      <td>Credit card</td>\n",
       "      <td>324.31</td>\n",
       "      <td>4.761905</td>\n",
       "      <td>16.2155</td>\n",
       "      <td>7.4</td>\n",
       "    </tr>\n",
       "    <tr>\n",
       "      <th>3</th>\n",
       "      <td>123-19-1176</td>\n",
       "      <td>A</td>\n",
       "      <td>Yangon</td>\n",
       "      <td>Member</td>\n",
       "      <td>Male</td>\n",
       "      <td>Health and beauty</td>\n",
       "      <td>58.22</td>\n",
       "      <td>8</td>\n",
       "      <td>23.2880</td>\n",
       "      <td>489.0480</td>\n",
       "      <td>1/27/2019</td>\n",
       "      <td>20:33</td>\n",
       "      <td>Ewallet</td>\n",
       "      <td>465.76</td>\n",
       "      <td>4.761905</td>\n",
       "      <td>23.2880</td>\n",
       "      <td>8.4</td>\n",
       "    </tr>\n",
       "    <tr>\n",
       "      <th>4</th>\n",
       "      <td>373-73-7910</td>\n",
       "      <td>A</td>\n",
       "      <td>Yangon</td>\n",
       "      <td>Normal</td>\n",
       "      <td>Male</td>\n",
       "      <td>Sports and travel</td>\n",
       "      <td>86.31</td>\n",
       "      <td>7</td>\n",
       "      <td>30.2085</td>\n",
       "      <td>634.3785</td>\n",
       "      <td>02/08/2019</td>\n",
       "      <td>10:37</td>\n",
       "      <td>Ewallet</td>\n",
       "      <td>604.17</td>\n",
       "      <td>4.761905</td>\n",
       "      <td>30.2085</td>\n",
       "      <td>5.3</td>\n",
       "    </tr>\n",
       "  </tbody>\n",
       "</table>\n",
       "</div>"
      ],
      "text/plain": [
       "    Invoice ID Branch       City Customer type  Gender  \\\n",
       "0  750-67-8428      A     Yangon        Member  Female   \n",
       "1  226-31-3081      C  Naypyitaw        Normal  Female   \n",
       "2  631-41-3108      A     Yangon        Normal    Male   \n",
       "3  123-19-1176      A     Yangon        Member    Male   \n",
       "4  373-73-7910      A     Yangon        Normal    Male   \n",
       "\n",
       "             Product line  Unit price  Quantity      Tax     Total  \\\n",
       "0       Health and beauty       74.69         7  26.1415  548.9715   \n",
       "1  Electronic accessories       15.28         5   3.8200   80.2200   \n",
       "2      Home and lifestyle       46.33         7  16.2155  340.5255   \n",
       "3       Health and beauty       58.22         8  23.2880  489.0480   \n",
       "4       Sports and travel       86.31         7  30.2085  634.3785   \n",
       "\n",
       "         Date   Time      Payment    cogs  gross margin percentage  \\\n",
       "0  01/05/2019  13:08      Ewallet  522.83                 4.761905   \n",
       "1  03/08/2019  10:29         Cash   76.40                 4.761905   \n",
       "2  03/03/2019  13:23  Credit card  324.31                 4.761905   \n",
       "3   1/27/2019  20:33      Ewallet  465.76                 4.761905   \n",
       "4  02/08/2019  10:37      Ewallet  604.17                 4.761905   \n",
       "\n",
       "   gross income  Rating  \n",
       "0       26.1415     9.1  \n",
       "1        3.8200     9.6  \n",
       "2       16.2155     7.4  \n",
       "3       23.2880     8.4  \n",
       "4       30.2085     5.3  "
      ]
     },
     "execution_count": 4,
     "metadata": {},
     "output_type": "execute_result"
    }
   ],
   "source": [
    "#display first four rows of data\n",
    "data.head()"
   ]
  },
  {
   "cell_type": "code",
   "execution_count": 5,
   "id": "7fafc649",
   "metadata": {},
   "outputs": [
    {
     "data": {
      "text/html": [
       "<div>\n",
       "<style scoped>\n",
       "    .dataframe tbody tr th:only-of-type {\n",
       "        vertical-align: middle;\n",
       "    }\n",
       "\n",
       "    .dataframe tbody tr th {\n",
       "        vertical-align: top;\n",
       "    }\n",
       "\n",
       "    .dataframe thead th {\n",
       "        text-align: right;\n",
       "    }\n",
       "</style>\n",
       "<table border=\"1\" class=\"dataframe\">\n",
       "  <thead>\n",
       "    <tr style=\"text-align: right;\">\n",
       "      <th></th>\n",
       "      <th>Unit price</th>\n",
       "      <th>Quantity</th>\n",
       "      <th>Tax</th>\n",
       "      <th>Total</th>\n",
       "      <th>cogs</th>\n",
       "      <th>gross margin percentage</th>\n",
       "      <th>gross income</th>\n",
       "      <th>Rating</th>\n",
       "    </tr>\n",
       "  </thead>\n",
       "  <tbody>\n",
       "    <tr>\n",
       "      <th>count</th>\n",
       "      <td>1000.000000</td>\n",
       "      <td>1000.000000</td>\n",
       "      <td>1000.000000</td>\n",
       "      <td>1000.000000</td>\n",
       "      <td>1000.00000</td>\n",
       "      <td>1.000000e+03</td>\n",
       "      <td>1000.000000</td>\n",
       "      <td>1000.00000</td>\n",
       "    </tr>\n",
       "    <tr>\n",
       "      <th>mean</th>\n",
       "      <td>55.672130</td>\n",
       "      <td>5.510000</td>\n",
       "      <td>15.379369</td>\n",
       "      <td>322.966749</td>\n",
       "      <td>307.58738</td>\n",
       "      <td>4.761905e+00</td>\n",
       "      <td>15.379369</td>\n",
       "      <td>6.97270</td>\n",
       "    </tr>\n",
       "    <tr>\n",
       "      <th>std</th>\n",
       "      <td>26.494628</td>\n",
       "      <td>2.923431</td>\n",
       "      <td>11.708825</td>\n",
       "      <td>245.885335</td>\n",
       "      <td>234.17651</td>\n",
       "      <td>6.131498e-14</td>\n",
       "      <td>11.708825</td>\n",
       "      <td>1.71858</td>\n",
       "    </tr>\n",
       "    <tr>\n",
       "      <th>min</th>\n",
       "      <td>10.080000</td>\n",
       "      <td>1.000000</td>\n",
       "      <td>0.508500</td>\n",
       "      <td>10.678500</td>\n",
       "      <td>10.17000</td>\n",
       "      <td>4.761905e+00</td>\n",
       "      <td>0.508500</td>\n",
       "      <td>4.00000</td>\n",
       "    </tr>\n",
       "    <tr>\n",
       "      <th>25%</th>\n",
       "      <td>32.875000</td>\n",
       "      <td>3.000000</td>\n",
       "      <td>5.924875</td>\n",
       "      <td>124.422375</td>\n",
       "      <td>118.49750</td>\n",
       "      <td>4.761905e+00</td>\n",
       "      <td>5.924875</td>\n",
       "      <td>5.50000</td>\n",
       "    </tr>\n",
       "    <tr>\n",
       "      <th>50%</th>\n",
       "      <td>55.230000</td>\n",
       "      <td>5.000000</td>\n",
       "      <td>12.088000</td>\n",
       "      <td>253.848000</td>\n",
       "      <td>241.76000</td>\n",
       "      <td>4.761905e+00</td>\n",
       "      <td>12.088000</td>\n",
       "      <td>7.00000</td>\n",
       "    </tr>\n",
       "    <tr>\n",
       "      <th>75%</th>\n",
       "      <td>77.935000</td>\n",
       "      <td>8.000000</td>\n",
       "      <td>22.445250</td>\n",
       "      <td>471.350250</td>\n",
       "      <td>448.90500</td>\n",
       "      <td>4.761905e+00</td>\n",
       "      <td>22.445250</td>\n",
       "      <td>8.50000</td>\n",
       "    </tr>\n",
       "    <tr>\n",
       "      <th>max</th>\n",
       "      <td>99.960000</td>\n",
       "      <td>10.000000</td>\n",
       "      <td>49.650000</td>\n",
       "      <td>1042.650000</td>\n",
       "      <td>993.00000</td>\n",
       "      <td>4.761905e+00</td>\n",
       "      <td>49.650000</td>\n",
       "      <td>10.00000</td>\n",
       "    </tr>\n",
       "  </tbody>\n",
       "</table>\n",
       "</div>"
      ],
      "text/plain": [
       "        Unit price     Quantity          Tax        Total        cogs  \\\n",
       "count  1000.000000  1000.000000  1000.000000  1000.000000  1000.00000   \n",
       "mean     55.672130     5.510000    15.379369   322.966749   307.58738   \n",
       "std      26.494628     2.923431    11.708825   245.885335   234.17651   \n",
       "min      10.080000     1.000000     0.508500    10.678500    10.17000   \n",
       "25%      32.875000     3.000000     5.924875   124.422375   118.49750   \n",
       "50%      55.230000     5.000000    12.088000   253.848000   241.76000   \n",
       "75%      77.935000     8.000000    22.445250   471.350250   448.90500   \n",
       "max      99.960000    10.000000    49.650000  1042.650000   993.00000   \n",
       "\n",
       "       gross margin percentage  gross income      Rating  \n",
       "count             1.000000e+03   1000.000000  1000.00000  \n",
       "mean              4.761905e+00     15.379369     6.97270  \n",
       "std               6.131498e-14     11.708825     1.71858  \n",
       "min               4.761905e+00      0.508500     4.00000  \n",
       "25%               4.761905e+00      5.924875     5.50000  \n",
       "50%               4.761905e+00     12.088000     7.00000  \n",
       "75%               4.761905e+00     22.445250     8.50000  \n",
       "max               4.761905e+00     49.650000    10.00000  "
      ]
     },
     "execution_count": 5,
     "metadata": {},
     "output_type": "execute_result"
    }
   ],
   "source": [
    "#view statistical details \n",
    "data.describe()"
   ]
  },
  {
   "cell_type": "code",
   "execution_count": 6,
   "id": "f94f90c2",
   "metadata": {},
   "outputs": [
    {
     "name": "stdout",
     "output_type": "stream",
     "text": [
      "<class 'pandas.core.frame.DataFrame'>\n",
      "RangeIndex: 1000 entries, 0 to 999\n",
      "Data columns (total 17 columns):\n",
      " #   Column                   Non-Null Count  Dtype  \n",
      "---  ------                   --------------  -----  \n",
      " 0   Invoice ID               1000 non-null   object \n",
      " 1   Branch                   1000 non-null   object \n",
      " 2   City                     1000 non-null   object \n",
      " 3   Customer type            1000 non-null   object \n",
      " 4   Gender                   1000 non-null   object \n",
      " 5   Product line             1000 non-null   object \n",
      " 6   Unit price               1000 non-null   float64\n",
      " 7   Quantity                 1000 non-null   int64  \n",
      " 8   Tax                      1000 non-null   float64\n",
      " 9   Total                    1000 non-null   float64\n",
      " 10  Date                     1000 non-null   object \n",
      " 11  Time                     1000 non-null   object \n",
      " 12  Payment                  1000 non-null   object \n",
      " 13  cogs                     1000 non-null   float64\n",
      " 14  gross margin percentage  1000 non-null   float64\n",
      " 15  gross income             1000 non-null   float64\n",
      " 16  Rating                   1000 non-null   float64\n",
      "dtypes: float64(7), int64(1), object(9)\n",
      "memory usage: 132.9+ KB\n"
     ]
    }
   ],
   "source": [
    "#inforamtion about the data frame\n",
    "data.info()"
   ]
  },
  {
   "cell_type": "code",
   "execution_count": 7,
   "id": "fad71163",
   "metadata": {},
   "outputs": [
    {
     "data": {
      "text/plain": [
       "(1000, 17)"
      ]
     },
     "execution_count": 7,
     "metadata": {},
     "output_type": "execute_result"
    }
   ],
   "source": [
    "#view the rows and coloumns of the dataset\n",
    "data.shape"
   ]
  },
  {
   "cell_type": "code",
   "execution_count": 8,
   "id": "3dd63e45",
   "metadata": {},
   "outputs": [
    {
     "data": {
      "text/plain": [
       "Index(['Invoice ID', 'Branch', 'City', 'Customer type', 'Gender',\n",
       "       'Product line', 'Unit price', 'Quantity', 'Tax', 'Total', 'Date',\n",
       "       'Time', 'Payment', 'cogs', 'gross margin percentage', 'gross income',\n",
       "       'Rating'],\n",
       "      dtype='object')"
      ]
     },
     "execution_count": 8,
     "metadata": {},
     "output_type": "execute_result"
    }
   ],
   "source": [
    "data.columns"
   ]
  },
  {
   "cell_type": "code",
   "execution_count": 9,
   "id": "be2a12a2",
   "metadata": {},
   "outputs": [
    {
     "data": {
      "text/plain": [
       "Invoice ID                  object\n",
       "Branch                      object\n",
       "City                        object\n",
       "Customer type               object\n",
       "Gender                      object\n",
       "Product line                object\n",
       "Unit price                 float64\n",
       "Quantity                     int64\n",
       "Tax                        float64\n",
       "Total                      float64\n",
       "Date                        object\n",
       "Time                        object\n",
       "Payment                     object\n",
       "cogs                       float64\n",
       "gross margin percentage    float64\n",
       "gross income               float64\n",
       "Rating                     float64\n",
       "dtype: object"
      ]
     },
     "execution_count": 9,
     "metadata": {},
     "output_type": "execute_result"
    }
   ],
   "source": [
    "data.dtypes"
   ]
  },
  {
   "cell_type": "code",
   "execution_count": 10,
   "id": "84669c6b",
   "metadata": {},
   "outputs": [],
   "source": [
    "#Checking null values"
   ]
  },
  {
   "cell_type": "code",
   "execution_count": 11,
   "id": "ba7cfee5",
   "metadata": {},
   "outputs": [
    {
     "data": {
      "text/plain": [
       "Invoice ID                 0\n",
       "Branch                     0\n",
       "City                       0\n",
       "Customer type              0\n",
       "Gender                     0\n",
       "Product line               0\n",
       "Unit price                 0\n",
       "Quantity                   0\n",
       "Tax                        0\n",
       "Total                      0\n",
       "Date                       0\n",
       "Time                       0\n",
       "Payment                    0\n",
       "cogs                       0\n",
       "gross margin percentage    0\n",
       "gross income               0\n",
       "Rating                     0\n",
       "dtype: int64"
      ]
     },
     "execution_count": 11,
     "metadata": {},
     "output_type": "execute_result"
    }
   ],
   "source": [
    "data.isnull().sum()"
   ]
  },
  {
   "cell_type": "code",
   "execution_count": 12,
   "id": "92aba196",
   "metadata": {},
   "outputs": [
    {
     "data": {
      "text/plain": [
       "Invoice ID                 False\n",
       "Branch                     False\n",
       "City                       False\n",
       "Customer type              False\n",
       "Gender                     False\n",
       "Product line               False\n",
       "Unit price                 False\n",
       "Quantity                   False\n",
       "Tax                        False\n",
       "Total                      False\n",
       "Date                       False\n",
       "Time                       False\n",
       "Payment                    False\n",
       "cogs                       False\n",
       "gross margin percentage    False\n",
       "gross income               False\n",
       "Rating                     False\n",
       "dtype: bool"
      ]
     },
     "execution_count": 12,
     "metadata": {},
     "output_type": "execute_result"
    }
   ],
   "source": [
    "data.isnull().any()"
   ]
  },
  {
   "cell_type": "code",
   "execution_count": 13,
   "id": "861f1b7e",
   "metadata": {},
   "outputs": [
    {
     "data": {
      "text/html": [
       "<div>\n",
       "<style scoped>\n",
       "    .dataframe tbody tr th:only-of-type {\n",
       "        vertical-align: middle;\n",
       "    }\n",
       "\n",
       "    .dataframe tbody tr th {\n",
       "        vertical-align: top;\n",
       "    }\n",
       "\n",
       "    .dataframe thead th {\n",
       "        text-align: right;\n",
       "    }\n",
       "</style>\n",
       "<table border=\"1\" class=\"dataframe\">\n",
       "  <thead>\n",
       "    <tr style=\"text-align: right;\">\n",
       "      <th></th>\n",
       "      <th>Unit price</th>\n",
       "      <th>Quantity</th>\n",
       "      <th>Tax</th>\n",
       "      <th>Total</th>\n",
       "      <th>cogs</th>\n",
       "      <th>gross margin percentage</th>\n",
       "      <th>gross income</th>\n",
       "      <th>Rating</th>\n",
       "    </tr>\n",
       "  </thead>\n",
       "  <tbody>\n",
       "    <tr>\n",
       "      <th>Unit price</th>\n",
       "      <td>1.000000</td>\n",
       "      <td>0.010778</td>\n",
       "      <td>0.633962</td>\n",
       "      <td>0.633962</td>\n",
       "      <td>0.633962</td>\n",
       "      <td>NaN</td>\n",
       "      <td>0.633962</td>\n",
       "      <td>-0.008778</td>\n",
       "    </tr>\n",
       "    <tr>\n",
       "      <th>Quantity</th>\n",
       "      <td>0.010778</td>\n",
       "      <td>1.000000</td>\n",
       "      <td>0.705510</td>\n",
       "      <td>0.705510</td>\n",
       "      <td>0.705510</td>\n",
       "      <td>NaN</td>\n",
       "      <td>0.705510</td>\n",
       "      <td>-0.015815</td>\n",
       "    </tr>\n",
       "    <tr>\n",
       "      <th>Tax</th>\n",
       "      <td>0.633962</td>\n",
       "      <td>0.705510</td>\n",
       "      <td>1.000000</td>\n",
       "      <td>1.000000</td>\n",
       "      <td>1.000000</td>\n",
       "      <td>NaN</td>\n",
       "      <td>1.000000</td>\n",
       "      <td>-0.036442</td>\n",
       "    </tr>\n",
       "    <tr>\n",
       "      <th>Total</th>\n",
       "      <td>0.633962</td>\n",
       "      <td>0.705510</td>\n",
       "      <td>1.000000</td>\n",
       "      <td>1.000000</td>\n",
       "      <td>1.000000</td>\n",
       "      <td>NaN</td>\n",
       "      <td>1.000000</td>\n",
       "      <td>-0.036442</td>\n",
       "    </tr>\n",
       "    <tr>\n",
       "      <th>cogs</th>\n",
       "      <td>0.633962</td>\n",
       "      <td>0.705510</td>\n",
       "      <td>1.000000</td>\n",
       "      <td>1.000000</td>\n",
       "      <td>1.000000</td>\n",
       "      <td>NaN</td>\n",
       "      <td>1.000000</td>\n",
       "      <td>-0.036442</td>\n",
       "    </tr>\n",
       "    <tr>\n",
       "      <th>gross margin percentage</th>\n",
       "      <td>NaN</td>\n",
       "      <td>NaN</td>\n",
       "      <td>NaN</td>\n",
       "      <td>NaN</td>\n",
       "      <td>NaN</td>\n",
       "      <td>NaN</td>\n",
       "      <td>NaN</td>\n",
       "      <td>NaN</td>\n",
       "    </tr>\n",
       "    <tr>\n",
       "      <th>gross income</th>\n",
       "      <td>0.633962</td>\n",
       "      <td>0.705510</td>\n",
       "      <td>1.000000</td>\n",
       "      <td>1.000000</td>\n",
       "      <td>1.000000</td>\n",
       "      <td>NaN</td>\n",
       "      <td>1.000000</td>\n",
       "      <td>-0.036442</td>\n",
       "    </tr>\n",
       "    <tr>\n",
       "      <th>Rating</th>\n",
       "      <td>-0.008778</td>\n",
       "      <td>-0.015815</td>\n",
       "      <td>-0.036442</td>\n",
       "      <td>-0.036442</td>\n",
       "      <td>-0.036442</td>\n",
       "      <td>NaN</td>\n",
       "      <td>-0.036442</td>\n",
       "      <td>1.000000</td>\n",
       "    </tr>\n",
       "  </tbody>\n",
       "</table>\n",
       "</div>"
      ],
      "text/plain": [
       "                         Unit price  Quantity       Tax     Total      cogs  \\\n",
       "Unit price                 1.000000  0.010778  0.633962  0.633962  0.633962   \n",
       "Quantity                   0.010778  1.000000  0.705510  0.705510  0.705510   \n",
       "Tax                        0.633962  0.705510  1.000000  1.000000  1.000000   \n",
       "Total                      0.633962  0.705510  1.000000  1.000000  1.000000   \n",
       "cogs                       0.633962  0.705510  1.000000  1.000000  1.000000   \n",
       "gross margin percentage         NaN       NaN       NaN       NaN       NaN   \n",
       "gross income               0.633962  0.705510  1.000000  1.000000  1.000000   \n",
       "Rating                    -0.008778 -0.015815 -0.036442 -0.036442 -0.036442   \n",
       "\n",
       "                         gross margin percentage  gross income    Rating  \n",
       "Unit price                                   NaN      0.633962 -0.008778  \n",
       "Quantity                                     NaN      0.705510 -0.015815  \n",
       "Tax                                          NaN      1.000000 -0.036442  \n",
       "Total                                        NaN      1.000000 -0.036442  \n",
       "cogs                                         NaN      1.000000 -0.036442  \n",
       "gross margin percentage                      NaN           NaN       NaN  \n",
       "gross income                                 NaN      1.000000 -0.036442  \n",
       "Rating                                       NaN     -0.036442  1.000000  "
      ]
     },
     "execution_count": 13,
     "metadata": {},
     "output_type": "execute_result"
    }
   ],
   "source": [
    "data.corr()"
   ]
  },
  {
   "cell_type": "code",
   "execution_count": 14,
   "id": "0c210b29",
   "metadata": {},
   "outputs": [
    {
     "data": {
      "text/html": [
       "<div>\n",
       "<style scoped>\n",
       "    .dataframe tbody tr th:only-of-type {\n",
       "        vertical-align: middle;\n",
       "    }\n",
       "\n",
       "    .dataframe tbody tr th {\n",
       "        vertical-align: top;\n",
       "    }\n",
       "\n",
       "    .dataframe thead th {\n",
       "        text-align: right;\n",
       "    }\n",
       "</style>\n",
       "<table border=\"1\" class=\"dataframe\">\n",
       "  <thead>\n",
       "    <tr style=\"text-align: right;\">\n",
       "      <th></th>\n",
       "      <th>Unit price</th>\n",
       "      <th>Quantity</th>\n",
       "      <th>Tax</th>\n",
       "      <th>Total</th>\n",
       "      <th>cogs</th>\n",
       "      <th>gross margin percentage</th>\n",
       "      <th>gross income</th>\n",
       "      <th>Rating</th>\n",
       "    </tr>\n",
       "  </thead>\n",
       "  <tbody>\n",
       "    <tr>\n",
       "      <th>Unit price</th>\n",
       "      <td>1.00</td>\n",
       "      <td>0.01</td>\n",
       "      <td>0.63</td>\n",
       "      <td>0.63</td>\n",
       "      <td>0.63</td>\n",
       "      <td>NaN</td>\n",
       "      <td>0.63</td>\n",
       "      <td>-0.01</td>\n",
       "    </tr>\n",
       "    <tr>\n",
       "      <th>Quantity</th>\n",
       "      <td>0.01</td>\n",
       "      <td>1.00</td>\n",
       "      <td>0.71</td>\n",
       "      <td>0.71</td>\n",
       "      <td>0.71</td>\n",
       "      <td>NaN</td>\n",
       "      <td>0.71</td>\n",
       "      <td>-0.02</td>\n",
       "    </tr>\n",
       "    <tr>\n",
       "      <th>Tax</th>\n",
       "      <td>0.63</td>\n",
       "      <td>0.71</td>\n",
       "      <td>1.00</td>\n",
       "      <td>1.00</td>\n",
       "      <td>1.00</td>\n",
       "      <td>NaN</td>\n",
       "      <td>1.00</td>\n",
       "      <td>-0.04</td>\n",
       "    </tr>\n",
       "    <tr>\n",
       "      <th>Total</th>\n",
       "      <td>0.63</td>\n",
       "      <td>0.71</td>\n",
       "      <td>1.00</td>\n",
       "      <td>1.00</td>\n",
       "      <td>1.00</td>\n",
       "      <td>NaN</td>\n",
       "      <td>1.00</td>\n",
       "      <td>-0.04</td>\n",
       "    </tr>\n",
       "    <tr>\n",
       "      <th>cogs</th>\n",
       "      <td>0.63</td>\n",
       "      <td>0.71</td>\n",
       "      <td>1.00</td>\n",
       "      <td>1.00</td>\n",
       "      <td>1.00</td>\n",
       "      <td>NaN</td>\n",
       "      <td>1.00</td>\n",
       "      <td>-0.04</td>\n",
       "    </tr>\n",
       "    <tr>\n",
       "      <th>gross margin percentage</th>\n",
       "      <td>NaN</td>\n",
       "      <td>NaN</td>\n",
       "      <td>NaN</td>\n",
       "      <td>NaN</td>\n",
       "      <td>NaN</td>\n",
       "      <td>NaN</td>\n",
       "      <td>NaN</td>\n",
       "      <td>NaN</td>\n",
       "    </tr>\n",
       "    <tr>\n",
       "      <th>gross income</th>\n",
       "      <td>0.63</td>\n",
       "      <td>0.71</td>\n",
       "      <td>1.00</td>\n",
       "      <td>1.00</td>\n",
       "      <td>1.00</td>\n",
       "      <td>NaN</td>\n",
       "      <td>1.00</td>\n",
       "      <td>-0.04</td>\n",
       "    </tr>\n",
       "    <tr>\n",
       "      <th>Rating</th>\n",
       "      <td>-0.01</td>\n",
       "      <td>-0.02</td>\n",
       "      <td>-0.04</td>\n",
       "      <td>-0.04</td>\n",
       "      <td>-0.04</td>\n",
       "      <td>NaN</td>\n",
       "      <td>-0.04</td>\n",
       "      <td>1.00</td>\n",
       "    </tr>\n",
       "  </tbody>\n",
       "</table>\n",
       "</div>"
      ],
      "text/plain": [
       "                         Unit price  Quantity   Tax  Total  cogs  \\\n",
       "Unit price                     1.00      0.01  0.63   0.63  0.63   \n",
       "Quantity                       0.01      1.00  0.71   0.71  0.71   \n",
       "Tax                            0.63      0.71  1.00   1.00  1.00   \n",
       "Total                          0.63      0.71  1.00   1.00  1.00   \n",
       "cogs                           0.63      0.71  1.00   1.00  1.00   \n",
       "gross margin percentage         NaN       NaN   NaN    NaN   NaN   \n",
       "gross income                   0.63      0.71  1.00   1.00  1.00   \n",
       "Rating                        -0.01     -0.02 -0.04  -0.04 -0.04   \n",
       "\n",
       "                         gross margin percentage  gross income  Rating  \n",
       "Unit price                                   NaN          0.63   -0.01  \n",
       "Quantity                                     NaN          0.71   -0.02  \n",
       "Tax                                          NaN          1.00   -0.04  \n",
       "Total                                        NaN          1.00   -0.04  \n",
       "cogs                                         NaN          1.00   -0.04  \n",
       "gross margin percentage                      NaN           NaN     NaN  \n",
       "gross income                                 NaN          1.00   -0.04  \n",
       "Rating                                       NaN         -0.04    1.00  "
      ]
     },
     "execution_count": 14,
     "metadata": {},
     "output_type": "execute_result"
    }
   ],
   "source": [
    "#Round a number to only two decimals\n",
    "np.round(data.corr(),2) "
   ]
  },
  {
   "cell_type": "code",
   "execution_count": 15,
   "id": "15f6c935",
   "metadata": {},
   "outputs": [
    {
     "data": {
      "text/html": [
       "<div>\n",
       "<style scoped>\n",
       "    .dataframe tbody tr th:only-of-type {\n",
       "        vertical-align: middle;\n",
       "    }\n",
       "\n",
       "    .dataframe tbody tr th {\n",
       "        vertical-align: top;\n",
       "    }\n",
       "\n",
       "    .dataframe thead th {\n",
       "        text-align: right;\n",
       "    }\n",
       "</style>\n",
       "<table border=\"1\" class=\"dataframe\">\n",
       "  <thead>\n",
       "    <tr style=\"text-align: right;\">\n",
       "      <th></th>\n",
       "      <th>Invoice ID</th>\n",
       "      <th>Branch</th>\n",
       "      <th>City</th>\n",
       "      <th>Customer type</th>\n",
       "      <th>Gender</th>\n",
       "      <th>Product line</th>\n",
       "      <th>Unit price</th>\n",
       "      <th>Quantity</th>\n",
       "      <th>Tax</th>\n",
       "      <th>Total</th>\n",
       "      <th>Date</th>\n",
       "      <th>Time</th>\n",
       "      <th>Payment</th>\n",
       "      <th>cogs</th>\n",
       "      <th>gross margin percentage</th>\n",
       "      <th>gross income</th>\n",
       "      <th>Rating</th>\n",
       "    </tr>\n",
       "  </thead>\n",
       "  <tbody>\n",
       "    <tr>\n",
       "      <th>0</th>\n",
       "      <td>750-67-8428</td>\n",
       "      <td>A</td>\n",
       "      <td>Yangon</td>\n",
       "      <td>Member</td>\n",
       "      <td>Female</td>\n",
       "      <td>Health and beauty</td>\n",
       "      <td>74.69</td>\n",
       "      <td>7</td>\n",
       "      <td>26.1415</td>\n",
       "      <td>548.9715</td>\n",
       "      <td>01/05/2019</td>\n",
       "      <td>13:08</td>\n",
       "      <td>Ewallet</td>\n",
       "      <td>522.83</td>\n",
       "      <td>4.761905</td>\n",
       "      <td>26.1415</td>\n",
       "      <td>9.1</td>\n",
       "    </tr>\n",
       "    <tr>\n",
       "      <th>1</th>\n",
       "      <td>226-31-3081</td>\n",
       "      <td>C</td>\n",
       "      <td>Naypyitaw</td>\n",
       "      <td>Normal</td>\n",
       "      <td>Female</td>\n",
       "      <td>Electronic accessories</td>\n",
       "      <td>15.28</td>\n",
       "      <td>5</td>\n",
       "      <td>3.8200</td>\n",
       "      <td>80.2200</td>\n",
       "      <td>03/08/2019</td>\n",
       "      <td>10:29</td>\n",
       "      <td>Cash</td>\n",
       "      <td>76.40</td>\n",
       "      <td>4.761905</td>\n",
       "      <td>3.8200</td>\n",
       "      <td>9.6</td>\n",
       "    </tr>\n",
       "    <tr>\n",
       "      <th>2</th>\n",
       "      <td>631-41-3108</td>\n",
       "      <td>A</td>\n",
       "      <td>Yangon</td>\n",
       "      <td>Normal</td>\n",
       "      <td>Male</td>\n",
       "      <td>Home and lifestyle</td>\n",
       "      <td>46.33</td>\n",
       "      <td>7</td>\n",
       "      <td>16.2155</td>\n",
       "      <td>340.5255</td>\n",
       "      <td>03/03/2019</td>\n",
       "      <td>13:23</td>\n",
       "      <td>Credit card</td>\n",
       "      <td>324.31</td>\n",
       "      <td>4.761905</td>\n",
       "      <td>16.2155</td>\n",
       "      <td>7.4</td>\n",
       "    </tr>\n",
       "    <tr>\n",
       "      <th>3</th>\n",
       "      <td>123-19-1176</td>\n",
       "      <td>A</td>\n",
       "      <td>Yangon</td>\n",
       "      <td>Member</td>\n",
       "      <td>Male</td>\n",
       "      <td>Health and beauty</td>\n",
       "      <td>58.22</td>\n",
       "      <td>8</td>\n",
       "      <td>23.2880</td>\n",
       "      <td>489.0480</td>\n",
       "      <td>1/27/2019</td>\n",
       "      <td>20:33</td>\n",
       "      <td>Ewallet</td>\n",
       "      <td>465.76</td>\n",
       "      <td>4.761905</td>\n",
       "      <td>23.2880</td>\n",
       "      <td>8.4</td>\n",
       "    </tr>\n",
       "    <tr>\n",
       "      <th>4</th>\n",
       "      <td>373-73-7910</td>\n",
       "      <td>A</td>\n",
       "      <td>Yangon</td>\n",
       "      <td>Normal</td>\n",
       "      <td>Male</td>\n",
       "      <td>Sports and travel</td>\n",
       "      <td>86.31</td>\n",
       "      <td>7</td>\n",
       "      <td>30.2085</td>\n",
       "      <td>634.3785</td>\n",
       "      <td>02/08/2019</td>\n",
       "      <td>10:37</td>\n",
       "      <td>Ewallet</td>\n",
       "      <td>604.17</td>\n",
       "      <td>4.761905</td>\n",
       "      <td>30.2085</td>\n",
       "      <td>5.3</td>\n",
       "    </tr>\n",
       "  </tbody>\n",
       "</table>\n",
       "</div>"
      ],
      "text/plain": [
       "    Invoice ID Branch       City Customer type  Gender  \\\n",
       "0  750-67-8428      A     Yangon        Member  Female   \n",
       "1  226-31-3081      C  Naypyitaw        Normal  Female   \n",
       "2  631-41-3108      A     Yangon        Normal    Male   \n",
       "3  123-19-1176      A     Yangon        Member    Male   \n",
       "4  373-73-7910      A     Yangon        Normal    Male   \n",
       "\n",
       "             Product line  Unit price  Quantity      Tax     Total  \\\n",
       "0       Health and beauty       74.69         7  26.1415  548.9715   \n",
       "1  Electronic accessories       15.28         5   3.8200   80.2200   \n",
       "2      Home and lifestyle       46.33         7  16.2155  340.5255   \n",
       "3       Health and beauty       58.22         8  23.2880  489.0480   \n",
       "4       Sports and travel       86.31         7  30.2085  634.3785   \n",
       "\n",
       "         Date   Time      Payment    cogs  gross margin percentage  \\\n",
       "0  01/05/2019  13:08      Ewallet  522.83                 4.761905   \n",
       "1  03/08/2019  10:29         Cash   76.40                 4.761905   \n",
       "2  03/03/2019  13:23  Credit card  324.31                 4.761905   \n",
       "3   1/27/2019  20:33      Ewallet  465.76                 4.761905   \n",
       "4  02/08/2019  10:37      Ewallet  604.17                 4.761905   \n",
       "\n",
       "   gross income  Rating  \n",
       "0       26.1415     9.1  \n",
       "1        3.8200     9.6  \n",
       "2       16.2155     7.4  \n",
       "3       23.2880     8.4  \n",
       "4       30.2085     5.3  "
      ]
     },
     "execution_count": 15,
     "metadata": {},
     "output_type": "execute_result"
    }
   ],
   "source": [
    "data.head()"
   ]
  },
  {
   "cell_type": "code",
   "execution_count": 16,
   "id": "f58515d0",
   "metadata": {},
   "outputs": [],
   "source": [
    "# #Remove values not useful in data analysis and visualisation \n",
    "data = data.drop('Tax', axis =1)\n",
    "data = data.drop('gross margin percentage', axis =1)\n",
    "data = data.drop('Rating', axis =1)"
   ]
  },
  {
   "cell_type": "code",
   "execution_count": 17,
   "id": "18cd75c1",
   "metadata": {},
   "outputs": [],
   "source": [
    "#Exploratory Data Analysis (EDA)"
   ]
  },
  {
   "cell_type": "code",
   "execution_count": 18,
   "id": "5af1eb39",
   "metadata": {},
   "outputs": [
    {
     "data": {
      "text/plain": [
       "<seaborn.axisgrid.PairGrid at 0x1a5c042af40>"
      ]
     },
     "execution_count": 18,
     "metadata": {},
     "output_type": "execute_result"
    },
    {
     "data": {
      "image/png": "[encoded data removed]",
      "text/plain": [
       "<Figure size 540x540 with 12 Axes>"
      ]
     },
     "metadata": {
      "needs_background": "light"
     },
     "output_type": "display_data"
    }
   ],
   "source": [
    "#Pairplot\n",
    "sns.pairplot(data[[\"gross income\", \"Quantity\", \"Unit price\"]], diag_kind=\"kde\")"
   ]
  },
  {
   "cell_type": "code",
   "execution_count": 19,
   "id": "3965eff4",
   "metadata": {},
   "outputs": [
    {
     "data": {
      "image/png": "[encoded data removed]",
      "text/plain": [
       "<Figure size 750x500 with 2 Axes>"
      ]
     },
     "metadata": {
      "needs_background": "light"
     },
     "output_type": "display_data"
    }
   ],
   "source": [
    "#Heatmap\n",
    "plt.figure(dpi=125)\n",
    "sns.heatmap(np.round(data.corr(),2),annot=True)\n",
    "plt.show()"
   ]
  },
  {
   "cell_type": "code",
   "execution_count": 20,
   "id": "3d39491b",
   "metadata": {},
   "outputs": [
    {
     "data": {
      "image/png": "[encoded data removed]",
      "text/plain": [
       "<Figure size 1440x1008 with 6 Axes>"
      ]
     },
     "metadata": {
      "needs_background": "light"
     },
     "output_type": "display_data"
    }
   ],
   "source": [
    "#Histogram\n",
    "data.hist(figsize=(20,14))\n",
    "plt.show()"
   ]
  },
  {
   "cell_type": "code",
   "execution_count": 21,
   "id": "9fe814ec",
   "metadata": {},
   "outputs": [
    {
     "data": {
      "text/plain": [
       "Text(0.5, 1.0, 'Branch Count')"
      ]
     },
     "execution_count": 21,
     "metadata": {},
     "output_type": "execute_result"
    },
    {
     "data": {
      "image/png": "[encoded data removed]",
      "text/plain": [
       "<Figure size 432x288 with 1 Axes>"
      ]
     },
     "metadata": {
      "needs_background": "light"
     },
     "output_type": "display_data"
    }
   ],
   "source": [
    "#Branch Count\n",
    "sns.countplot(x=\"Branch\", data =data).set_title(\"Branch Count\") "
   ]
  },
  {
   "cell_type": "code",
   "execution_count": 22,
   "id": "e4939483",
   "metadata": {},
   "outputs": [],
   "source": [
    "# A is the most busy branch"
   ]
  },
  {
   "cell_type": "code",
   "execution_count": 23,
   "id": "60f7212a",
   "metadata": {},
   "outputs": [
    {
     "data": {
      "text/plain": [
       "Text(0.5, 1.0, 'Payment Channel')"
      ]
     },
     "execution_count": 23,
     "metadata": {},
     "output_type": "execute_result"
    },
    {
     "data": {
      "image/png": "[encoded data removed]",
      "text/plain": [
       "<Figure size 432x288 with 1 Axes>"
      ]
     },
     "metadata": {
      "needs_background": "light"
     },
     "output_type": "display_data"
    }
   ],
   "source": [
    "#Most used payment method\n",
    "sns.countplot(x=\"Payment\", data =data).set_title(\"Payment Channel\") "
   ]
  },
  {
   "cell_type": "code",
   "execution_count": 24,
   "id": "fa0ecf23",
   "metadata": {},
   "outputs": [],
   "source": [
    "#Most customers pay through Cash Payment and Ewallet"
   ]
  },
  {
   "cell_type": "code",
   "execution_count": 25,
   "id": "ea285a3e",
   "metadata": {},
   "outputs": [
    {
     "data": {
      "text/plain": [
       "Text(0.5, 1.0, 'Payment Channel by Branch')"
      ]
     },
     "execution_count": 25,
     "metadata": {},
     "output_type": "execute_result"
    },
    {
     "data": {
      "image/png": "[encoded data removed]",
      "text/plain": [
       "<Figure size 750x500 with 1 Axes>"
      ]
     },
     "metadata": {
      "needs_background": "light"
     },
     "output_type": "display_data"
    }
   ],
   "source": [
    "#Payment channel by Branch\n",
    "plt.figure(dpi=125)\n",
    "sns.countplot(y=\"Branch\", hue = \"Payment\", data = data).set_title(\"Payment Channel by Branch\") "
   ]
  },
  {
   "cell_type": "code",
   "execution_count": 26,
   "id": "7f81e18a",
   "metadata": {},
   "outputs": [
    {
     "data": {
      "text/plain": [
       "Female    501\n",
       "Male      499\n",
       "Name: Gender, dtype: int64"
      ]
     },
     "execution_count": 26,
     "metadata": {},
     "output_type": "execute_result"
    },
    {
     "data": {
      "image/png": "[encoded data removed]",
      "text/plain": [
       "<Figure size 432x288 with 1 Axes>"
      ]
     },
     "metadata": {
      "needs_background": "light"
     },
     "output_type": "display_data"
    }
   ],
   "source": [
    "#Gender count\n",
    "sns.countplot(x=\"Gender\", data = data).set_title(\"Gender_Count\")\n",
    "data[\"Gender\"].value_counts()"
   ]
  },
  {
   "cell_type": "code",
   "execution_count": 27,
   "id": "79631073",
   "metadata": {},
   "outputs": [
    {
     "name": "stdout",
     "output_type": "stream",
     "text": [
      "(1000, 14)\n"
     ]
    },
    {
     "data": {
      "text/plain": [
       "Female    501\n",
       "Male      499\n",
       "Name: Gender, dtype: int64"
      ]
     },
     "execution_count": 27,
     "metadata": {},
     "output_type": "execute_result"
    }
   ],
   "source": [
    "print(data.shape)\n",
    "data[\"Gender\"].value_counts()"
   ]
  },
  {
   "cell_type": "code",
   "execution_count": 28,
   "id": "94ea8313",
   "metadata": {},
   "outputs": [],
   "source": [
    "#Rating by Branch\n",
    "#sns.boxplot(x=\"Branch\", y = \"Rating\" ,data = data).set_title(\"Ratings by Branch\") "
   ]
  },
  {
   "cell_type": "code",
   "execution_count": 29,
   "id": "ac0c7971",
   "metadata": {},
   "outputs": [],
   "source": [
    "# Branch B has the lowest rating"
   ]
  },
  {
   "cell_type": "code",
   "execution_count": 30,
   "id": "448c05df",
   "metadata": {},
   "outputs": [],
   "source": [
    "#Products analysis "
   ]
  },
  {
   "cell_type": "code",
   "execution_count": 31,
   "id": "a2d44a13",
   "metadata": {},
   "outputs": [
    {
     "data": {
      "text/plain": [
       "<AxesSubplot:xlabel='Quantity', ylabel='Product line'>"
      ]
     },
     "execution_count": 31,
     "metadata": {},
     "output_type": "execute_result"
    },
    {
     "data": {
      "image/png": "[encoded data removed]",
      "text/plain": [
       "<Figure size 432x288 with 1 Axes>"
      ]
     },
     "metadata": {
      "needs_background": "light"
     },
     "output_type": "display_data"
    }
   ],
   "source": [
    "#Best quantity selling products\n",
    "sns.boxenplot(y = 'Product line', x = 'Quantity', data=data)"
   ]
  },
  {
   "cell_type": "code",
   "execution_count": 32,
   "id": "be6e1f5b",
   "metadata": {},
   "outputs": [],
   "source": [
    "# Health and Beauty,Electronic accessories, Homem and lifestyle, Sports and travel have a better average quantity sales"
   ]
  },
  {
   "cell_type": "code",
   "execution_count": 33,
   "id": "dbb54091",
   "metadata": {},
   "outputs": [
    {
     "data": {
      "text/plain": [
       "<AxesSubplot:xlabel='count', ylabel='Product line'>"
      ]
     },
     "execution_count": 33,
     "metadata": {},
     "output_type": "execute_result"
    },
    {
     "data": {
      "image/png": "[encoded data removed]",
      "text/plain": [
       "<Figure size 432x288 with 1 Axes>"
      ]
     },
     "metadata": {
      "needs_background": "light"
     },
     "output_type": "display_data"
    }
   ],
   "source": [
    "#Product line sold the most\n",
    "sns.countplot(y = 'Product line', data=data, order = data['Product line'].value_counts().index)"
   ]
  },
  {
   "cell_type": "code",
   "execution_count": 34,
   "id": "f7d1961a",
   "metadata": {},
   "outputs": [],
   "source": [
    "#Fashion accessories sold the most\n",
    "#Health and beauty sold the least"
   ]
  },
  {
   "cell_type": "code",
   "execution_count": 35,
   "id": "e23b9ec1",
   "metadata": {},
   "outputs": [],
   "source": [
    "#Product line with highest rating\n",
    "#sns.boxenplot(y = 'Product line', x = 'Rating', data=data)"
   ]
  },
  {
   "cell_type": "code",
   "execution_count": 36,
   "id": "92ac9fea",
   "metadata": {},
   "outputs": [],
   "source": [
    "#Food and Beverages have the highest average rating \n",
    "#Sports and travel have the lowest average rating "
   ]
  },
  {
   "cell_type": "code",
   "execution_count": 37,
   "id": "88dddeea",
   "metadata": {},
   "outputs": [
    {
     "data": {
      "text/plain": [
       "Text(0.5, 1.0, 'Payment per Product line ')"
      ]
     },
     "execution_count": 37,
     "metadata": {},
     "output_type": "execute_result"
    },
    {
     "data": {
      "image/png": "[encoded data removed]",
      "text/plain": [
       "<Figure size 750x500 with 1 Axes>"
      ]
     },
     "metadata": {
      "needs_background": "light"
     },
     "output_type": "display_data"
    }
   ],
   "source": [
    "#Payment per Product line\n",
    "plt.figure(dpi=125)\n",
    "sns.countplot(y = \"Product line\",  hue = \"Payment\", data =data).set_title('Payment per Product line ')"
   ]
  },
  {
   "cell_type": "code",
   "execution_count": 38,
   "id": "65d7b9bd",
   "metadata": {},
   "outputs": [
    {
     "data": {
      "text/plain": [
       "<seaborn.axisgrid.FacetGrid at 0x1a5c1362700>"
      ]
     },
     "execution_count": 38,
     "metadata": {},
     "output_type": "execute_result"
    },
    {
     "data": {
      "image/png": "[encoded data removed]",
      "text/plain": [
       "<Figure size 1152.12x360 with 1 Axes>"
      ]
     },
     "metadata": {
      "needs_background": "light"
     },
     "output_type": "display_data"
    },
    {
     "data": {
      "image/png": "[encoded data removed]",
      "text/plain": [
       "<Figure size 1152.12x360 with 1 Axes>"
      ]
     },
     "metadata": {
      "needs_background": "light"
     },
     "output_type": "display_data"
    },
    {
     "data": {
      "image/png": "[encoded data removed]",
      "text/plain": [
       "<Figure size 1152.12x360 with 1 Axes>"
      ]
     },
     "metadata": {
      "needs_background": "light"
     },
     "output_type": "display_data"
    }
   ],
   "source": [
    "#Purchases by gender\n",
    "sns.catplot(x='Product line',y='Unit price',hue='Gender',data=data, kind = 'bar', aspect = 3 )\n",
    "sns.catplot(x='Product line',y='Total',hue='Gender',data=data, kind = 'bar', aspect = 3 )\n",
    "sns.catplot(x='Product line',y='Quantity',hue='Gender',data=data, kind = 'bar', aspect = 3 )"
   ]
  },
  {
   "cell_type": "code",
   "execution_count": 39,
   "id": "7c70484f",
   "metadata": {},
   "outputs": [],
   "source": [
    "# Females customers are most frequent on Home and Lifestyle as well as Food and Accessories.\n",
    "# Males customers are most frequent on Health and Beauty."
   ]
  },
  {
   "cell_type": "code",
   "execution_count": 40,
   "id": "60d833d6",
   "metadata": {},
   "outputs": [
    {
     "data": {
      "text/plain": [
       "<AxesSubplot:xlabel='count', ylabel='Product line'>"
      ]
     },
     "execution_count": 40,
     "metadata": {},
     "output_type": "execute_result"
    },
    {
     "data": {
      "image/png": "[encoded data removed]",
      "text/plain": [
       "<Figure size 750x500 with 1 Axes>"
      ]
     },
     "metadata": {
      "needs_background": "light"
     },
     "output_type": "display_data"
    }
   ],
   "source": [
    "# Sales by city\n",
    "plt.figure(dpi=125)\n",
    "sns.countplot(y ='Product line', hue = \"City\", data = data) "
   ]
  },
  {
   "cell_type": "code",
   "execution_count": 41,
   "id": "0c0faf70",
   "metadata": {},
   "outputs": [],
   "source": [
    "#Naypyitaw is a good place to sell Fashion accessoires and Food & Beverages\n",
    "#Yangon is a good place to sell Electronic accesoires and Home and Lifestyle."
   ]
  },
  {
   "cell_type": "code",
   "execution_count": null,
   "id": "544265fb",
   "metadata": {},
   "outputs": [],
   "source": []
  },
  {
   "cell_type": "code",
   "execution_count": 42,
   "id": "93648809",
   "metadata": {},
   "outputs": [],
   "source": [
    "# Change categorical variables (strings) to numerical form\n",
    "list_1=list(data.columns)"
   ]
  },
  {
   "cell_type": "code",
   "execution_count": 43,
   "id": "3df9235e",
   "metadata": {},
   "outputs": [],
   "source": [
    "list_cate=[]\n",
    "for i in list_1:\n",
    "    if data[i].dtype=='object':\n",
    "        list_cate.append(i)"
   ]
  },
  {
   "cell_type": "code",
   "execution_count": 44,
   "id": "a9108a99",
   "metadata": {},
   "outputs": [],
   "source": [
    "from sklearn.preprocessing import LabelEncoder\n",
    "le=LabelEncoder()"
   ]
  },
  {
   "cell_type": "code",
   "execution_count": 45,
   "id": "5208621d",
   "metadata": {},
   "outputs": [],
   "source": [
    "for i in list_cate:\n",
    "    data[i]=le.fit_transform(data[i])"
   ]
  },
  {
   "cell_type": "code",
   "execution_count": 46,
   "id": "7d8828ca",
   "metadata": {},
   "outputs": [
    {
     "data": {
      "text/html": [
       "<div>\n",
       "<style scoped>\n",
       "    .dataframe tbody tr th:only-of-type {\n",
       "        vertical-align: middle;\n",
       "    }\n",
       "\n",
       "    .dataframe tbody tr th {\n",
       "        vertical-align: top;\n",
       "    }\n",
       "\n",
       "    .dataframe thead th {\n",
       "        text-align: right;\n",
       "    }\n",
       "</style>\n",
       "<table border=\"1\" class=\"dataframe\">\n",
       "  <thead>\n",
       "    <tr style=\"text-align: right;\">\n",
       "      <th></th>\n",
       "      <th>Invoice ID</th>\n",
       "      <th>Branch</th>\n",
       "      <th>City</th>\n",
       "      <th>Customer type</th>\n",
       "      <th>Gender</th>\n",
       "      <th>Product line</th>\n",
       "      <th>Unit price</th>\n",
       "      <th>Quantity</th>\n",
       "      <th>Total</th>\n",
       "      <th>Date</th>\n",
       "      <th>Time</th>\n",
       "      <th>Payment</th>\n",
       "      <th>cogs</th>\n",
       "      <th>gross income</th>\n",
       "    </tr>\n",
       "  </thead>\n",
       "  <tbody>\n",
       "    <tr>\n",
       "      <th>0</th>\n",
       "      <td>814</td>\n",
       "      <td>0</td>\n",
       "      <td>2</td>\n",
       "      <td>0</td>\n",
       "      <td>0</td>\n",
       "      <td>3</td>\n",
       "      <td>74.69</td>\n",
       "      <td>7</td>\n",
       "      <td>548.9715</td>\n",
       "      <td>4</td>\n",
       "      <td>146</td>\n",
       "      <td>2</td>\n",
       "      <td>522.83</td>\n",
       "      <td>26.1415</td>\n",
       "    </tr>\n",
       "    <tr>\n",
       "      <th>1</th>\n",
       "      <td>142</td>\n",
       "      <td>2</td>\n",
       "      <td>1</td>\n",
       "      <td>1</td>\n",
       "      <td>0</td>\n",
       "      <td>0</td>\n",
       "      <td>15.28</td>\n",
       "      <td>5</td>\n",
       "      <td>80.2200</td>\n",
       "      <td>32</td>\n",
       "      <td>23</td>\n",
       "      <td>0</td>\n",
       "      <td>76.40</td>\n",
       "      <td>3.8200</td>\n",
       "    </tr>\n",
       "    <tr>\n",
       "      <th>2</th>\n",
       "      <td>653</td>\n",
       "      <td>0</td>\n",
       "      <td>2</td>\n",
       "      <td>1</td>\n",
       "      <td>1</td>\n",
       "      <td>4</td>\n",
       "      <td>46.33</td>\n",
       "      <td>7</td>\n",
       "      <td>340.5255</td>\n",
       "      <td>27</td>\n",
       "      <td>155</td>\n",
       "      <td>1</td>\n",
       "      <td>324.31</td>\n",
       "      <td>16.2155</td>\n",
       "    </tr>\n",
       "    <tr>\n",
       "      <th>3</th>\n",
       "      <td>18</td>\n",
       "      <td>0</td>\n",
       "      <td>2</td>\n",
       "      <td>0</td>\n",
       "      <td>1</td>\n",
       "      <td>3</td>\n",
       "      <td>58.22</td>\n",
       "      <td>8</td>\n",
       "      <td>489.0480</td>\n",
       "      <td>51</td>\n",
       "      <td>485</td>\n",
       "      <td>2</td>\n",
       "      <td>465.76</td>\n",
       "      <td>23.2880</td>\n",
       "    </tr>\n",
       "    <tr>\n",
       "      <th>4</th>\n",
       "      <td>339</td>\n",
       "      <td>0</td>\n",
       "      <td>2</td>\n",
       "      <td>1</td>\n",
       "      <td>1</td>\n",
       "      <td>5</td>\n",
       "      <td>86.31</td>\n",
       "      <td>7</td>\n",
       "      <td>634.3785</td>\n",
       "      <td>19</td>\n",
       "      <td>29</td>\n",
       "      <td>2</td>\n",
       "      <td>604.17</td>\n",
       "      <td>30.2085</td>\n",
       "    </tr>\n",
       "    <tr>\n",
       "      <th>...</th>\n",
       "      <td>...</td>\n",
       "      <td>...</td>\n",
       "      <td>...</td>\n",
       "      <td>...</td>\n",
       "      <td>...</td>\n",
       "      <td>...</td>\n",
       "      <td>...</td>\n",
       "      <td>...</td>\n",
       "      <td>...</td>\n",
       "      <td>...</td>\n",
       "      <td>...</td>\n",
       "      <td>...</td>\n",
       "      <td>...</td>\n",
       "      <td>...</td>\n",
       "    </tr>\n",
       "    <tr>\n",
       "      <th>995</th>\n",
       "      <td>153</td>\n",
       "      <td>2</td>\n",
       "      <td>1</td>\n",
       "      <td>1</td>\n",
       "      <td>1</td>\n",
       "      <td>3</td>\n",
       "      <td>40.35</td>\n",
       "      <td>1</td>\n",
       "      <td>42.3675</td>\n",
       "      <td>53</td>\n",
       "      <td>174</td>\n",
       "      <td>2</td>\n",
       "      <td>40.35</td>\n",
       "      <td>2.0175</td>\n",
       "    </tr>\n",
       "    <tr>\n",
       "      <th>996</th>\n",
       "      <td>250</td>\n",
       "      <td>1</td>\n",
       "      <td>0</td>\n",
       "      <td>1</td>\n",
       "      <td>0</td>\n",
       "      <td>4</td>\n",
       "      <td>97.38</td>\n",
       "      <td>10</td>\n",
       "      <td>1022.4900</td>\n",
       "      <td>26</td>\n",
       "      <td>342</td>\n",
       "      <td>2</td>\n",
       "      <td>973.80</td>\n",
       "      <td>48.6900</td>\n",
       "    </tr>\n",
       "    <tr>\n",
       "      <th>997</th>\n",
       "      <td>767</td>\n",
       "      <td>0</td>\n",
       "      <td>2</td>\n",
       "      <td>0</td>\n",
       "      <td>1</td>\n",
       "      <td>2</td>\n",
       "      <td>31.84</td>\n",
       "      <td>1</td>\n",
       "      <td>33.4320</td>\n",
       "      <td>20</td>\n",
       "      <td>154</td>\n",
       "      <td>0</td>\n",
       "      <td>31.84</td>\n",
       "      <td>1.5920</td>\n",
       "    </tr>\n",
       "    <tr>\n",
       "      <th>998</th>\n",
       "      <td>308</td>\n",
       "      <td>0</td>\n",
       "      <td>2</td>\n",
       "      <td>1</td>\n",
       "      <td>1</td>\n",
       "      <td>4</td>\n",
       "      <td>65.82</td>\n",
       "      <td>1</td>\n",
       "      <td>69.1110</td>\n",
       "      <td>65</td>\n",
       "      <td>261</td>\n",
       "      <td>0</td>\n",
       "      <td>65.82</td>\n",
       "      <td>3.2910</td>\n",
       "    </tr>\n",
       "    <tr>\n",
       "      <th>999</th>\n",
       "      <td>935</td>\n",
       "      <td>0</td>\n",
       "      <td>2</td>\n",
       "      <td>0</td>\n",
       "      <td>0</td>\n",
       "      <td>1</td>\n",
       "      <td>88.34</td>\n",
       "      <td>7</td>\n",
       "      <td>649.2990</td>\n",
       "      <td>61</td>\n",
       "      <td>160</td>\n",
       "      <td>0</td>\n",
       "      <td>618.38</td>\n",
       "      <td>30.9190</td>\n",
       "    </tr>\n",
       "  </tbody>\n",
       "</table>\n",
       "<p>1000 rows × 14 columns</p>\n",
       "</div>"
      ],
      "text/plain": [
       "     Invoice ID  Branch  City  Customer type  Gender  Product line  \\\n",
       "0           814       0     2              0       0             3   \n",
       "1           142       2     1              1       0             0   \n",
       "2           653       0     2              1       1             4   \n",
       "3            18       0     2              0       1             3   \n",
       "4           339       0     2              1       1             5   \n",
       "..          ...     ...   ...            ...     ...           ...   \n",
       "995         153       2     1              1       1             3   \n",
       "996         250       1     0              1       0             4   \n",
       "997         767       0     2              0       1             2   \n",
       "998         308       0     2              1       1             4   \n",
       "999         935       0     2              0       0             1   \n",
       "\n",
       "     Unit price  Quantity      Total  Date  Time  Payment    cogs  \\\n",
       "0         74.69         7   548.9715     4   146        2  522.83   \n",
       "1         15.28         5    80.2200    32    23        0   76.40   \n",
       "2         46.33         7   340.5255    27   155        1  324.31   \n",
       "3         58.22         8   489.0480    51   485        2  465.76   \n",
       "4         86.31         7   634.3785    19    29        2  604.17   \n",
       "..          ...       ...        ...   ...   ...      ...     ...   \n",
       "995       40.35         1    42.3675    53   174        2   40.35   \n",
       "996       97.38        10  1022.4900    26   342        2  973.80   \n",
       "997       31.84         1    33.4320    20   154        0   31.84   \n",
       "998       65.82         1    69.1110    65   261        0   65.82   \n",
       "999       88.34         7   649.2990    61   160        0  618.38   \n",
       "\n",
       "     gross income  \n",
       "0         26.1415  \n",
       "1          3.8200  \n",
       "2         16.2155  \n",
       "3         23.2880  \n",
       "4         30.2085  \n",
       "..            ...  \n",
       "995        2.0175  \n",
       "996       48.6900  \n",
       "997        1.5920  \n",
       "998        3.2910  \n",
       "999       30.9190  \n",
       "\n",
       "[1000 rows x 14 columns]"
      ]
     },
     "execution_count": 46,
     "metadata": {},
     "output_type": "execute_result"
    }
   ],
   "source": [
    "data"
   ]
  },
  {
   "cell_type": "code",
   "execution_count": 47,
   "id": "40ed1acd",
   "metadata": {},
   "outputs": [],
   "source": [
    "y=data['Gender']\n",
    "x=data.drop('Gender',axis=1)"
   ]
  },
  {
   "cell_type": "code",
   "execution_count": 48,
   "id": "ce24d14d",
   "metadata": {},
   "outputs": [],
   "source": [
    "#Training and Testing data"
   ]
  },
  {
   "cell_type": "code",
   "execution_count": 49,
   "id": "ca3ba709",
   "metadata": {},
   "outputs": [],
   "source": [
    "from sklearn.model_selection import train_test_split\n",
    "x_train,x_test,y_train,y_test=train_test_split(x,y,random_state=0,test_size=0.2)"
   ]
  },
  {
   "cell_type": "code",
   "execution_count": 50,
   "id": "5a6e70f5",
   "metadata": {},
   "outputs": [
    {
     "name": "stdout",
     "output_type": "stream",
     "text": [
      "800\n",
      "200\n",
      "800\n",
      "200\n"
     ]
    }
   ],
   "source": [
    "print(len(x_train))\n",
    "print(len(x_test))\n",
    "print(len(y_train))\n",
    "print(len(y_test))"
   ]
  },
  {
   "cell_type": "code",
   "execution_count": 51,
   "id": "682b3782",
   "metadata": {},
   "outputs": [],
   "source": [
    "#Modelling using machine learining techniques"
   ]
  },
  {
   "cell_type": "code",
   "execution_count": 52,
   "id": "38914037",
   "metadata": {},
   "outputs": [
    {
     "data": {
      "text/plain": [
       "KNeighborsClassifier(n_neighbors=2)"
      ]
     },
     "execution_count": 52,
     "metadata": {},
     "output_type": "execute_result"
    }
   ],
   "source": [
    "#KNNeighborsClassifier (K- Nearest Neighbors)\n",
    "# Import module for KNN\n",
    "from sklearn.neighbors import KNeighborsClassifier\n",
    "# Create KNN instance\n",
    "knn=KNeighborsClassifier(n_neighbors=2)\n",
    "\n",
    "#Fit the model\n",
    "knn.fit(x_train,y_train)"
   ]
  },
  {
   "cell_type": "code",
   "execution_count": 53,
   "id": "d8d56138",
   "metadata": {},
   "outputs": [
    {
     "name": "stdout",
     "output_type": "stream",
     "text": [
      "Classification Report is:\n",
      "               precision    recall  f1-score   support\n",
      "\n",
      "           0       0.50      0.77      0.61       100\n",
      "           1       0.51      0.24      0.33       100\n",
      "\n",
      "    accuracy                           0.51       200\n",
      "   macro avg       0.51      0.51      0.47       200\n",
      "weighted avg       0.51      0.51      0.47       200\n",
      "\n",
      "Confusion Matrix:\n",
      " [[77 23]\n",
      " [76 24]]\n",
      "Training Score:\n",
      " 76.5\n"
     ]
    }
   ],
   "source": [
    "# Use the .predict() method to make predictions from the X_test subset\n",
    "y_pred=knn.predict(x_test)\n",
    "# Import classification report and confusion matrix to evaluate predictions\n",
    "from sklearn.metrics import accuracy_score,classification_report,confusion_matrix\n",
    "from sklearn.metrics import r2_score\n",
    "from sklearn.metrics import mean_squared_error\n",
    "# Print out classification report and confusion matrix\n",
    "print(\"Classification Report is:\\n\",classification_report(y_test,y_pred))\n",
    "print(\"Confusion Matrix:\\n\",confusion_matrix(y_test,y_pred))\n",
    "print(\"Training Score:\\n\",knn.score(x_train,y_train)*100)"
   ]
  },
  {
   "cell_type": "code",
   "execution_count": 54,
   "id": "cc84d4a4",
   "metadata": {},
   "outputs": [
    {
     "data": {
      "text/plain": [
       "GaussianNB()"
      ]
     },
     "execution_count": 54,
     "metadata": {},
     "output_type": "execute_result"
    }
   ],
   "source": [
    "#Naive Bayes\n",
    "# Import module for Naive Bayes\n",
    "from sklearn.naive_bayes import GaussianNB\n",
    "gnb = GaussianNB()\n",
    "#Fit the model\n",
    "gnb.fit(x_train,y_train)"
   ]
  },
  {
   "cell_type": "code",
   "execution_count": 55,
   "id": "6098542c",
   "metadata": {},
   "outputs": [
    {
     "name": "stdout",
     "output_type": "stream",
     "text": [
      "Classification Report is:\n",
      "               precision    recall  f1-score   support\n",
      "\n",
      "           0       0.53      0.42      0.47       100\n",
      "           1       0.52      0.63      0.57       100\n",
      "\n",
      "    accuracy                           0.53       200\n",
      "   macro avg       0.53      0.53      0.52       200\n",
      "weighted avg       0.53      0.53      0.52       200\n",
      "\n",
      "Confusion Matrix:\n",
      " [[42 58]\n",
      " [37 63]]\n",
      "Training Score:\n",
      " 55.875\n"
     ]
    }
   ],
   "source": [
    "# Use the .predict() method to make predictions from the X_test subset\n",
    "y_pred=gnb.predict(x_test)\n",
    "# Import classification report and confusion matrix to evaluate predictions\n",
    "from sklearn.metrics import accuracy_score,classification_report,confusion_matrix\n",
    "from sklearn.metrics import r2_score\n",
    "from sklearn.metrics import mean_squared_error\n",
    "# Print out classification report and confusion matrix\n",
    "print(\"Classification Report is:\\n\",classification_report(y_test,y_pred))\n",
    "print(\"Confusion Matrix:\\n\",confusion_matrix(y_test,y_pred))\n",
    "print(\"Training Score:\\n\",gnb.score(x_train,y_train)*100)"
   ]
  },
  {
   "cell_type": "code",
   "execution_count": 56,
   "id": "bc06dd45",
   "metadata": {},
   "outputs": [
    {
     "data": {
      "text/plain": [
       "DecisionTreeClassifier(criterion='entropy', max_depth=6, random_state=123)"
      ]
     },
     "execution_count": 56,
     "metadata": {},
     "output_type": "execute_result"
    }
   ],
   "source": [
    "#Decision Tree Classifier\n",
    "# Import module for Decision Tree\n",
    "from sklearn.tree import DecisionTreeClassifier\n",
    "dtree = DecisionTreeClassifier(max_depth=6, random_state=123,criterion='entropy')\n",
    "# Fit the model\n",
    "dtree.fit(x_train,y_train)"
   ]
  },
  {
   "cell_type": "code",
   "execution_count": 57,
   "id": "335d8228",
   "metadata": {},
   "outputs": [
    {
     "name": "stdout",
     "output_type": "stream",
     "text": [
      "Classification Report is:\n",
      "               precision    recall  f1-score   support\n",
      "\n",
      "           0       0.56      0.54      0.55       100\n",
      "           1       0.55      0.57      0.56       100\n",
      "\n",
      "    accuracy                           0.56       200\n",
      "   macro avg       0.56      0.55      0.55       200\n",
      "weighted avg       0.56      0.56      0.55       200\n",
      "\n",
      "Confusion Matrix:\n",
      " [[54 46]\n",
      " [43 57]]\n",
      "Training Score:\n",
      " 69.0\n"
     ]
    }
   ],
   "source": [
    "# Use the .predict() method to make predictions from the X_test subset\n",
    "y_pred=dtree.predict(x_test)\n",
    "# Import classification report and confusion matrix to evaluate predictions\n",
    "from sklearn.metrics import accuracy_score,classification_report,confusion_matrix\n",
    "from sklearn.metrics import r2_score\n",
    "from sklearn.metrics import mean_squared_error\n",
    "# Print out classification report and confusion matrix\n",
    "print(\"Classification Report is:\\n\",classification_report(y_test,y_pred))\n",
    "print(\"Confusion Matrix:\\n\",confusion_matrix(y_test,y_pred))\n",
    "print(\"Training Score:\\n\",dtree.score(x_train,y_train)*100)"
   ]
  },
  {
   "cell_type": "code",
   "execution_count": 58,
   "id": "3b6d51fd",
   "metadata": {},
   "outputs": [
    {
     "data": {
      "text/plain": [
       "RandomForestClassifier()"
      ]
     },
     "execution_count": 58,
     "metadata": {},
     "output_type": "execute_result"
    }
   ],
   "source": [
    "#Random Forrest Classifier\n",
    "# Import module for Random Forrest\n",
    "from sklearn.ensemble import RandomForestClassifier\n",
    "rfc=RandomForestClassifier()\n",
    "# Fit the model\n",
    "rfc.fit(x_train,y_train)"
   ]
  },
  {
   "cell_type": "code",
   "execution_count": 59,
   "id": "d4d90440",
   "metadata": {},
   "outputs": [
    {
     "name": "stdout",
     "output_type": "stream",
     "text": [
      "Classification Report is:\n",
      "               precision    recall  f1-score   support\n",
      "\n",
      "           0       0.48      0.48      0.48       100\n",
      "           1       0.48      0.48      0.48       100\n",
      "\n",
      "    accuracy                           0.48       200\n",
      "   macro avg       0.48      0.48      0.48       200\n",
      "weighted avg       0.48      0.48      0.48       200\n",
      "\n",
      "Confusion Matrix:\n",
      " [[48 52]\n",
      " [52 48]]\n",
      "Training Score:\n",
      " 100.0\n"
     ]
    }
   ],
   "source": [
    "# Use the .predict() method to make predictions from the X_test subset\n",
    "y_pred=rfc.predict(x_test)\n",
    "# Import classification report and confusion matrix to evaluate predictions\n",
    "from sklearn.metrics import accuracy_score,classification_report,confusion_matrix\n",
    "from sklearn.metrics import r2_score\n",
    "from sklearn.metrics import mean_squared_error\n",
    "# Print out classification report and confusion matrix\n",
    "print(\"Classification Report is:\\n\",classification_report(y_test,y_pred))\n",
    "print(\"Confusion Matrix:\\n\",confusion_matrix(y_test,y_pred))\n",
    "print(\"Training Score:\\n\",rfc.score(x_train,y_train)*100)"
   ]
  },
  {
   "cell_type": "code",
   "execution_count": 60,
   "id": "df589696",
   "metadata": {},
   "outputs": [
    {
     "data": {
      "text/plain": [
       "GradientBoostingClassifier()"
      ]
     },
     "execution_count": 60,
     "metadata": {},
     "output_type": "execute_result"
    }
   ],
   "source": [
    "#Gradient Boost Classifier\n",
    "# Import module for Gradient Boosting\n",
    "from sklearn.ensemble import GradientBoostingClassifier\n",
    "gbc=GradientBoostingClassifier()\n",
    "# Fit the model\n",
    "gbc.fit(x_train,y_train)"
   ]
  },
  {
   "cell_type": "code",
   "execution_count": 61,
   "id": "1144ee2d",
   "metadata": {},
   "outputs": [
    {
     "name": "stdout",
     "output_type": "stream",
     "text": [
      "Classification Report is:\n",
      "               precision    recall  f1-score   support\n",
      "\n",
      "           0       0.51      0.49      0.50       100\n",
      "           1       0.50      0.52      0.51       100\n",
      "\n",
      "    accuracy                           0.51       200\n",
      "   macro avg       0.51      0.51      0.50       200\n",
      "weighted avg       0.51      0.51      0.50       200\n",
      "\n",
      "Confusion Matrix:\n",
      " [[49 51]\n",
      " [48 52]]\n",
      "Training Score:\n",
      " 86.75\n"
     ]
    }
   ],
   "source": [
    "# Use the .predict() method to make predictions from the X_test subset\n",
    "y_pred=gbc.predict(x_test)\n",
    "# Import classification report and confusion matrix to evaluate predictions\n",
    "from sklearn.metrics import accuracy_score,classification_report,confusion_matrix\n",
    "from sklearn.metrics import r2_score\n",
    "from sklearn.metrics import mean_squared_error\n",
    "# Print out classification report and confusion matrix\n",
    "print(\"Classification Report is:\\n\",classification_report(y_test,y_pred))\n",
    "print(\"Confusion Matrix:\\n\",confusion_matrix(y_test,y_pred))\n",
    "print(\"Training Score:\\n\",gbc.score(x_train,y_train)*100)"
   ]
  },
  {
   "cell_type": "code",
   "execution_count": 62,
   "id": "7d35a513",
   "metadata": {},
   "outputs": [
    {
     "data": {
      "text/plain": [
       "ExtraTreesClassifier(random_state=0)"
      ]
     },
     "execution_count": 62,
     "metadata": {},
     "output_type": "execute_result"
    }
   ],
   "source": [
    "#ExtrasTrees Classiefier\n",
    "# Import module for Extra Trees\n",
    "from sklearn.ensemble import ExtraTreesClassifier\n",
    "etc = ExtraTreesClassifier(n_estimators=100, random_state=0)\n",
    "# Fit the model\n",
    "etc.fit(x_train,y_train)"
   ]
  },
  {
   "cell_type": "code",
   "execution_count": 63,
   "id": "1e1d9fe8",
   "metadata": {},
   "outputs": [
    {
     "name": "stdout",
     "output_type": "stream",
     "text": [
      "Classification Report is:\n",
      "               precision    recall  f1-score   support\n",
      "\n",
      "           0       0.50      0.50      0.50       100\n",
      "           1       0.49      0.49      0.49       100\n",
      "\n",
      "    accuracy                           0.49       200\n",
      "   macro avg       0.49      0.49      0.49       200\n",
      "weighted avg       0.49      0.49      0.49       200\n",
      "\n",
      "Confusion Matrix:\n",
      " [[50 50]\n",
      " [51 49]]\n",
      "Training Score:\n",
      " 100.0\n"
     ]
    }
   ],
   "source": [
    "# Use the .predict() method to make predictions from the X_test subset\n",
    "y_pred=etc.predict(x_test)\n",
    "# Import classification report and confusion matrix to evaluate predictions\n",
    "from sklearn.metrics import accuracy_score,classification_report,confusion_matrix\n",
    "from sklearn.metrics import r2_score\n",
    "from sklearn.metrics import mean_squared_error\n",
    "# Print out classification report and confusion matrix\n",
    "print(\"Classification Report is:\\n\",classification_report(y_test,y_pred))\n",
    "print(\"Confusion Matrix:\\n\",confusion_matrix(y_test,y_pred))\n",
    "print(\"Training Score:\\n\",etc.score(x_train,y_train)*100)"
   ]
  },
  {
   "cell_type": "code",
   "execution_count": 64,
   "id": "a3af833a",
   "metadata": {},
   "outputs": [],
   "source": [
    "# Evaluation\n",
    "\n",
    "# The retailer should expan in the city Naypyitaw, opeining a store with a\n",
    "# full-inventory of products in the categories\n",
    "# Food and Bavarages, Fashion Accessories and Electronic accessories. \n",
    "# Increase service in cash payment and Ewallet modes.\n",
    "\n",
    "# Accuracies of different models:\n",
    "# KKNeighbors Classifier = 76.5%\n",
    "# Naive Bayes = 55.88%\n",
    "# Decision Tree Classifier = 69%\n",
    "# Random Forest Classifier = 100%\n",
    "# Gradient Boosting Classifier = 86.75%\n",
    "# ExtraTrees Classifier = 100%\n",
    "\n",
    "\n",
    "# 100% accuracy using Random Forest Classifier and Extra Trees Classfier"
   ]
  }
 ],
 "metadata": {
  "kernelspec": {
   "display_name": "Python 3",
   "language": "python",
   "name": "python3"
  },
  "language_info": {
   "codemirror_mode": {
    "name": "ipython",
    "version": 3
   },
   "file_extension": ".py",
   "mimetype": "text/x-python",
   "name": "python",
   "nbconvert_exporter": "python",
   "pygments_lexer": "ipython3",
   "version": "3.8.8"
  }
 },
 "nbformat": 4,
 "nbformat_minor": 5
}
